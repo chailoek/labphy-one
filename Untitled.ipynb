{
 "cells": [
  {
   "cell_type": "code",
   "execution_count": 21,
   "id": "1edb60ac-d87e-444b-a592-5e3f9378e321",
   "metadata": {
    "tags": []
   },
   "outputs": [],
   "source": [
    "import labutils\n",
    "from labutils import *"
   ]
  },
  {
   "cell_type": "code",
   "execution_count": 22,
   "id": "da3a9c64-df1a-45d5-b47d-81550da2d109",
   "metadata": {
    "tags": []
   },
   "outputs": [],
   "source": [
    "import bqplot as bq\n",
    "import bqplot.pyplot as plt\n",
    "import numpy as np\n"
   ]
  },
  {
   "cell_type": "code",
   "execution_count": 23,
   "id": "ea9b762a-0025-466c-882e-a1e4f117a991",
   "metadata": {},
   "outputs": [
    {
     "ename": "TypeError",
     "evalue": "Mark.__init__() takes 1 positional argument but 3 were given",
     "output_type": "error",
     "traceback": [
      "\u001b[0;31m---------------------------------------------------------------------------\u001b[0m",
      "\u001b[0;31mTypeError\u001b[0m                                 Traceback (most recent call last)",
      "Cell \u001b[0;32mIn[23], line 9\u001b[0m\n\u001b[1;32m      6\u001b[0m xs \u001b[38;5;241m=\u001b[39m bq\u001b[38;5;241m.\u001b[39mLinearScale()\n\u001b[1;32m      7\u001b[0m ys \u001b[38;5;241m=\u001b[39m bq\u001b[38;5;241m.\u001b[39mLinearScale()\n\u001b[0;32m----> 9\u001b[0m line \u001b[38;5;241m=\u001b[39m \u001b[43mbq\u001b[49m\u001b[38;5;241;43m.\u001b[39;49m\u001b[43mLines\u001b[49m\u001b[43m(\u001b[49m\u001b[43mx\u001b[49m\u001b[43m,\u001b[49m\u001b[43m \u001b[49m\u001b[43my\u001b[49m\u001b[43m,\u001b[49m\u001b[43m \u001b[49m\u001b[43mscales\u001b[49m\u001b[38;5;241;43m=\u001b[39;49m\u001b[43m{\u001b[49m\u001b[38;5;124;43m\"\u001b[39;49m\u001b[38;5;124;43mx\u001b[39;49m\u001b[38;5;124;43m\"\u001b[39;49m\u001b[43m:\u001b[49m\u001b[43m \u001b[49m\u001b[43mxs\u001b[49m\u001b[43m,\u001b[49m\u001b[43m \u001b[49m\u001b[38;5;124;43m\"\u001b[39;49m\u001b[38;5;124;43my\u001b[39;49m\u001b[38;5;124;43m\"\u001b[39;49m\u001b[43m:\u001b[49m\u001b[43m \u001b[49m\u001b[43mys\u001b[49m\u001b[43m}\u001b[49m\u001b[43m)\u001b[49m\n",
      "\u001b[0;31mTypeError\u001b[0m: Mark.__init__() takes 1 positional argument but 3 were given"
     ]
    }
   ],
   "source": [
    "# data attributes\n",
    "x = np.linspace(-10, 10, 100)\n",
    "y = np.sin(x)\n",
    "\n",
    "# scales for each data attribute\n",
    "xs = bq.LinearScale()\n",
    "ys = bq.LinearScale()\n",
    "\n",
    "line = bq.Lines(x, y, scales={\"x\": xs, \"y\": ys})"
   ]
  },
  {
   "cell_type": "code",
   "execution_count": 12,
   "id": "94837823-8f0a-4066-884e-c300217fbf96",
   "metadata": {
    "tags": []
   },
   "outputs": [],
   "source": [
    "import numpy as np  # For numerical programming and multi-dimensional arrays\n",
    "from pandas import date_range  # For date-rate generation\n",
    "from bqplot import LinearScale, Lines, Axis, Figure, DateScale, ColorScale"
   ]
  },
  {
   "cell_type": "code",
   "execution_count": 13,
   "id": "5e744185-cb8e-4653-9504-8b2a9bbc022d",
   "metadata": {
    "tags": []
   },
   "outputs": [],
   "source": [
    "security_1 = np.cumsum(np.random.randn(150)) + 100.0\n",
    "security_2 = np.cumsum(np.random.randn(150)) + 100.0"
   ]
  },
  {
   "cell_type": "code",
   "execution_count": 14,
   "id": "5ceae8e3-3d96-4840-b57b-32740cea4ff4",
   "metadata": {
    "tags": []
   },
   "outputs": [
    {
     "data": {
      "application/vnd.jupyter.widget-view+json": {
       "model_id": "15d16585201f4506b1711676a46b857e",
       "version_major": 2,
       "version_minor": 0
      },
      "text/plain": [
       "Figure(axes=[Axis(label='Index', scale=LinearScale()), Axis(label='y-values of Security 1', orientation='verti…"
      ]
     },
     "execution_count": 14,
     "metadata": {},
     "output_type": "execute_result"
    }
   ],
   "source": [
    "sc_x = LinearScale()\n",
    "sc_y = LinearScale()\n",
    "\n",
    "line = Lines(x=np.arange(len(security_1)), y=security_1, scales={\"x\": sc_x, \"y\": sc_y})\n",
    "ax_x = Axis(scale=sc_x, label=\"Index\")\n",
    "ax_y = Axis(scale=sc_y, orientation=\"vertical\", label=\"y-values of Security 1\")\n",
    "\n",
    "Figure(marks=[line], axes=[ax_x, ax_y], title=\"Security 1\")"
   ]
  },
  {
   "cell_type": "code",
   "execution_count": 17,
   "id": "2f050720-cae1-4471-84fb-232cb85e85e6",
   "metadata": {
    "tags": []
   },
   "outputs": [],
   "source": [
    "line.colors = [\"DarkOrange\"]\n"
   ]
  },
  {
   "cell_type": "code",
   "execution_count": 18,
   "id": "2b6cb714-5fa5-4d7f-bf3c-f051c12e08da",
   "metadata": {
    "tags": []
   },
   "outputs": [],
   "source": [
    "line.opacities = [0.5]"
   ]
  },
  {
   "cell_type": "code",
   "execution_count": 19,
   "id": "2c3330ea-ed82-4540-b76e-f612ecf55625",
   "metadata": {
    "tags": []
   },
   "outputs": [],
   "source": [
    "line.fill = \"bottom\"\n",
    "line.fill_opacities = [0.2]"
   ]
  },
  {
   "cell_type": "code",
   "execution_count": 20,
   "id": "f2ba9cb1-8418-49d7-a961-24773125a194",
   "metadata": {
    "tags": []
   },
   "outputs": [],
   "source": [
    "line.marker = \"triangle-down\""
   ]
  },
  {
   "cell_type": "code",
   "execution_count": null,
   "id": "7903aa6e-85cf-4797-a168-75da45cd0e0f",
   "metadata": {},
   "outputs": [],
   "source": []
  }
 ],
 "metadata": {
  "kernelspec": {
   "display_name": "Python 3 (ipykernel)",
   "language": "python",
   "name": "python3"
  },
  "language_info": {
   "codemirror_mode": {
    "name": "ipython",
    "version": 3
   },
   "file_extension": ".py",
   "mimetype": "text/x-python",
   "name": "python",
   "nbconvert_exporter": "python",
   "pygments_lexer": "ipython3",
   "version": "3.11.3"
  }
 },
 "nbformat": 4,
 "nbformat_minor": 5
}
